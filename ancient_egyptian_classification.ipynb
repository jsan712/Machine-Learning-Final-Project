{
 "cells": [
  {
   "cell_type": "markdown",
   "metadata": {},
   "source": [
    "### Classifying Ancient Egyptian Landmarks\n",
    "\n",
    "Created by Josh Sanchez. Last updated February 1, 2024.\n",
    "\n",
    "This dataset consists of roughly 3,500 images of Ancient Egyptian landmarks.\n",
    "The dataset was created by user Marvy Ayman Halim on Kaggle and can be found at: https://www.kaggle.com/datasets/marvyaymanhalim/ancient-egyptian-landmarks-dataset."
   ]
  },
  {
   "cell_type": "code",
   "execution_count": 2,
   "metadata": {},
   "outputs": [],
   "source": [
    "# import necessary packages\n",
    "import os\n",
    "\n",
    "# data processing\n",
    "import pandas as pd\n",
    "\n",
    "# data visualization\n",
    "%matplotlib inline\n",
    "from matplotlib import pyplot as plt\n",
    "\n",
    "# data preprocessing and scaling\n",
    "from preamble import *\n",
    "plt.rcParams['image.cmap'] = \"gray\"\n",
    "import mglearn\n",
    "from sklearn.preprocessing import MinMaxScaler\n",
    "from sklearn.model_selection import train_test_split"
   ]
  },
  {
   "cell_type": "markdown",
   "metadata": {},
   "source": [
    "# Data Preprocessing\n",
    "Import the data and clean up the folder names. Then make the image dataset into a csv file"
   ]
  },
  {
   "cell_type": "code",
   "execution_count": 38,
   "metadata": {},
   "outputs": [],
   "source": [
    "parent_dir = \"D:/Data Visualization and Machine Learning/Final Project/raw_data\"\n",
    "filenames = []\n",
    "labels = []\n",
    "\n",
    "for folder in os.scandir(parent_dir):\n",
    "    # if the selected item is not a directory\n",
    "    if not folder.is_dir():\n",
    "        continue\n",
    "\n",
    "    # lowercase the folder name and replace space with underscore\n",
    "    changed_folder_name = folder.name.lower()\n",
    "    changed_folder_name = changed_folder_name.replace(\" \", \"_\")\n",
    "\n",
    "    # pull filename and store in filenames for dataframe\n",
    "\n",
    "    for file in os.scandir(folder.path):\n",
    "        # if the folder is empty\n",
    "        if len(folder.path) == 0:\n",
    "            continue\n",
    "\n",
    "        # lowercase the file name and replace space with underscore\n",
    "        changed_file_name = file.name.lower()\n",
    "        changed_file_name = changed_file_name.replace(\" \", \"_\")\n",
    "\n",
    "        # store properly formatted folder name as a label\n",
    "        labels.append(changed_folder_name)\n",
    "\n",
    "        # store filename as a filename\n",
    "        filenames.append(changed_file_name)\n",
    "\n",
    "        # create a dataframe by making a tuple of the filename and label\n",
    "        df = pd.DataFrame(list(zip(filenames, labels)), columns=[\"image\", \"label\"])\n",
    "\n",
    "        # rename the file\n",
    "        os.rename(os.path.join(parent_dir, folder, file), os.path.join(parent_dir, folder, changed_file_name))\n",
    "    \n",
    "    # renname the folder\n",
    "    os.rename(\n",
    "        os.path.join(parent_dir, folder),\n",
    "        os.path.join(parent_dir, changed_folder_name),\n",
    "    )\n",
    "        \n",
    "\n",
    "\n",
    "# change the file to a csv\n",
    "df.to_csv(\"ancient_egyptian_dataset.csv\", index=False)"
   ]
  },
  {
   "cell_type": "markdown",
   "metadata": {},
   "source": [
    "# Describe the sample and features"
   ]
  },
  {
   "cell_type": "code",
   "execution_count": 4,
   "metadata": {},
   "outputs": [
    {
     "data": {
      "text/html": [
       "<div>\n",
       "<style scoped>\n",
       "    .dataframe tbody tr th:only-of-type {\n",
       "        vertical-align: middle;\n",
       "    }\n",
       "\n",
       "    .dataframe tbody tr th {\n",
       "        vertical-align: top;\n",
       "    }\n",
       "\n",
       "    .dataframe thead th {\n",
       "        text-align: right;\n",
       "    }\n",
       "</style>\n",
       "<table border=\"1\" class=\"dataframe\">\n",
       "  <thead>\n",
       "    <tr style=\"text-align: right;\">\n",
       "      <th></th>\n",
       "      <th>image</th>\n",
       "      <th>label</th>\n",
       "    </tr>\n",
       "  </thead>\n",
       "  <tbody>\n",
       "    <tr>\n",
       "      <th>0</th>\n",
       "      <td>15634726773_a8ac65d6ef_m_-_copy.jpg</td>\n",
       "      <td>akhenaten</td>\n",
       "    </tr>\n",
       "    <tr>\n",
       "      <th>1</th>\n",
       "      <td>19281291360_5a49331215_m.jpg</td>\n",
       "      <td>akhenaten</td>\n",
       "    </tr>\n",
       "    <tr>\n",
       "      <th>2</th>\n",
       "      <td>2906415757_50c2bc0414_m.jpg</td>\n",
       "      <td>akhenaten</td>\n",
       "    </tr>\n",
       "    <tr>\n",
       "      <th>3</th>\n",
       "      <td>41957529164_421e9f622f_m.jpg</td>\n",
       "      <td>akhenaten</td>\n",
       "    </tr>\n",
       "    <tr>\n",
       "      <th>4</th>\n",
       "      <td>4902788942_1c4ee56ede_m.jpg</td>\n",
       "      <td>akhenaten</td>\n",
       "    </tr>\n",
       "    <tr>\n",
       "      <th>5</th>\n",
       "      <td>7731634374_fe4e21a493_m.jpg</td>\n",
       "      <td>akhenaten</td>\n",
       "    </tr>\n",
       "    <tr>\n",
       "      <th>6</th>\n",
       "      <td>9711457465_051cf60521_n.jpg</td>\n",
       "      <td>akhenaten</td>\n",
       "    </tr>\n",
       "    <tr>\n",
       "      <th>7</th>\n",
       "      <td>a.1.jpg</td>\n",
       "      <td>akhenaten</td>\n",
       "    </tr>\n",
       "    <tr>\n",
       "      <th>8</th>\n",
       "      <td>a.10.jpg</td>\n",
       "      <td>akhenaten</td>\n",
       "    </tr>\n",
       "    <tr>\n",
       "      <th>9</th>\n",
       "      <td>a.11.jpg</td>\n",
       "      <td>akhenaten</td>\n",
       "    </tr>\n",
       "  </tbody>\n",
       "</table>\n",
       "</div>"
      ],
      "text/plain": [
       "                                 image      label\n",
       "0  15634726773_a8ac65d6ef_m_-_copy.jpg  akhenaten\n",
       "1         19281291360_5a49331215_m.jpg  akhenaten\n",
       "2          2906415757_50c2bc0414_m.jpg  akhenaten\n",
       "3         41957529164_421e9f622f_m.jpg  akhenaten\n",
       "4          4902788942_1c4ee56ede_m.jpg  akhenaten\n",
       "5          7731634374_fe4e21a493_m.jpg  akhenaten\n",
       "6          9711457465_051cf60521_n.jpg  akhenaten\n",
       "7                              a.1.jpg  akhenaten\n",
       "8                             a.10.jpg  akhenaten\n",
       "9                             a.11.jpg  akhenaten"
      ]
     },
     "execution_count": 4,
     "metadata": {},
     "output_type": "execute_result"
    }
   ],
   "source": [
    "df.head(10)"
   ]
  },
  {
   "cell_type": "markdown",
   "metadata": {},
   "source": [
    "# Understanding patterns/trends in the data"
   ]
  },
  {
   "cell_type": "markdown",
   "metadata": {},
   "source": [
    "In order to understand the data, it must first be described. The code below shows that there are 1337 \"unique\" images (meaning image filenames) and 22 unique labels. At this point, the model might attempt to cluster the images into 22 distinct groups."
   ]
  },
  {
   "cell_type": "code",
   "execution_count": 5,
   "metadata": {},
   "outputs": [
    {
     "data": {
      "text/html": [
       "<div>\n",
       "<style scoped>\n",
       "    .dataframe tbody tr th:only-of-type {\n",
       "        vertical-align: middle;\n",
       "    }\n",
       "\n",
       "    .dataframe tbody tr th {\n",
       "        vertical-align: top;\n",
       "    }\n",
       "\n",
       "    .dataframe thead th {\n",
       "        text-align: right;\n",
       "    }\n",
       "</style>\n",
       "<table border=\"1\" class=\"dataframe\">\n",
       "  <thead>\n",
       "    <tr style=\"text-align: right;\">\n",
       "      <th></th>\n",
       "      <th>image</th>\n",
       "      <th>label</th>\n",
       "    </tr>\n",
       "  </thead>\n",
       "  <tbody>\n",
       "    <tr>\n",
       "      <th>count</th>\n",
       "      <td>3576</td>\n",
       "      <td>3576</td>\n",
       "    </tr>\n",
       "    <tr>\n",
       "      <th>unique</th>\n",
       "      <td>1321</td>\n",
       "      <td>22</td>\n",
       "    </tr>\n",
       "    <tr>\n",
       "      <th>top</th>\n",
       "      <td>8.jpg</td>\n",
       "      <td>khafre_pyramid</td>\n",
       "    </tr>\n",
       "    <tr>\n",
       "      <th>freq</th>\n",
       "      <td>18</td>\n",
       "      <td>444</td>\n",
       "    </tr>\n",
       "  </tbody>\n",
       "</table>\n",
       "</div>"
      ],
      "text/plain": [
       "        image           label\n",
       "count    3576            3576\n",
       "unique   1321              22\n",
       "top     8.jpg  khafre_pyramid\n",
       "freq       18             444"
      ]
     },
     "execution_count": 5,
     "metadata": {},
     "output_type": "execute_result"
    }
   ],
   "source": [
    "df.describe()"
   ]
  },
  {
   "cell_type": "markdown",
   "metadata": {},
   "source": [
    "The below code shows the number of images for each label. This is the number of points expected for each cluster."
   ]
  },
  {
   "cell_type": "code",
   "execution_count": 6,
   "metadata": {},
   "outputs": [
    {
     "data": {
      "text/plain": [
       "label\n",
       "khafre_pyramid                             444\n",
       "hatshepsut                                 349\n",
       "sphinx                                     345\n",
       "bent_pyramid_for_senefru                   336\n",
       "colossoi_of_memnon                         234\n",
       "the_great_temple_of_ramesses_ii            219\n",
       "mask_of_tutankhamun                        201\n",
       "ramessum                                   189\n",
       "menkaure_pyramid                           120\n",
       "statue_of_king_zoser                       109\n",
       "nefertiti                                  104\n",
       "colossal_statue_of_ramesses_ii              99\n",
       "temple_of_kom_ombo                          99\n",
       "amenhotep_iii_and_tiye                      98\n",
       "ramses_ii_red_granite_statue                97\n",
       "akhenaten                                   95\n",
       "hatshepsut_face                             84\n",
       "goddess_isis_with_her_child                 84\n",
       "pyramid_of_djoser                           76\n",
       "bust_of_ramesses_ii                         70\n",
       "statue_of_tutankhamun_with_ankhesenamun     67\n",
       "temple_of_isis_in_philae                    57\n",
       "Name: count, dtype: int64"
      ]
     },
     "execution_count": 6,
     "metadata": {},
     "output_type": "execute_result"
    }
   ],
   "source": [
    "df[\"label\"].value_counts()"
   ]
  },
  {
   "cell_type": "markdown",
   "metadata": {},
   "source": [
    "## Continuing this project\n",
    "\n",
    "In order to continue working on the project, the following questions need to be answered:\n",
    "\n",
    "* What other descriptive plots can I create to see trends in the data?\n",
    "* Do I need to greyscale my images?\n",
    "* Do I need to get my images to be of the same resolution?\n",
    "* How do I tell the algorithm to cluster into 2 groups, sculpture and structure, in an unsupervised approach?\n",
    "    * How can it decipher that an image is a structure or sculpture?\n",
    "* Should the set up of a CNN or pixel boundaries be done in at this step?\n",
    "* Should images be cropped at this point, or does the pixel boundary eliminate the need for image cropping?"
   ]
  }
 ],
 "metadata": {
  "kernelspec": {
   "display_name": "Python 3",
   "language": "python",
   "name": "python3"
  },
  "language_info": {
   "codemirror_mode": {
    "name": "ipython",
    "version": 3
   },
   "file_extension": ".py",
   "mimetype": "text/x-python",
   "name": "python",
   "nbconvert_exporter": "python",
   "pygments_lexer": "ipython3",
   "version": "3.11.5"
  }
 },
 "nbformat": 4,
 "nbformat_minor": 2
}
