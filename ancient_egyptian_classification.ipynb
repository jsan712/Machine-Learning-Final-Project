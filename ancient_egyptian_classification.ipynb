{
 "cells": [
  {
   "cell_type": "markdown",
   "metadata": {},
   "source": [
    "### Classifying Ancient Egyptian Landmarks\n",
    "\n",
    "Created by Josh Sanchez. Last updated February 1, 2024.\n",
    "\n",
    "This dataset consists of roughly 3,500 images of Ancient Egyptian landmarks.\n",
    "The dataset was created by user Marvy Ayman Halim on Kaggle and can be found at: https://www.kaggle.com/datasets/marvyaymanhalim/ancient-egyptian-landmarks-dataset."
   ]
  },
  {
   "cell_type": "code",
   "execution_count": 1,
   "metadata": {},
   "outputs": [],
   "source": [
    "# import necessary packages\n",
    "\n",
    "# data preprocessing\n",
    "import os\n",
    "import shutil\n",
    "import pandas as pd\n",
    "\n",
    "# data visualization\n",
    "%matplotlib inline\n",
    "from matplotlib import pyplot as plt\n",
    "\n",
    "# data scaling\n",
    "from preamble import *\n",
    "import mglearn\n",
    "from sklearn.preprocessing import MinMaxScaler\n",
    "from sklearn.model_selection import train_test_split"
   ]
  },
  {
   "cell_type": "markdown",
   "metadata": {},
   "source": [
    "# Data Preprocessing\n",
    "Import the data and clean up the folder and file names. Then make the image dataset into a .csv file. \n",
    "\n",
    "**Note:** I removed the Node.js folder from the dataset because it does not pertain to the project. The original data can be found under the folder called *Data*. The *raw_data* folder contains the original dataset minus the Node.js folder. The *processed_data folder* contains the properly formatted folder and file names."
   ]
  },
  {
   "cell_type": "code",
   "execution_count": 12,
   "metadata": {},
   "outputs": [],
   "source": [
    "filenames = []\n",
    "labels = []\n",
    "\n",
    "# create the processed_data folder\n",
    "try:\n",
    "    os.mkdir(os.path.join(os.getcwd(), \"processed_data\"))\n",
    "    processed_data_dir = os.path.join(os.getcwd(), \"processed_data\")\n",
    "except OSError as error:\n",
    "    print(error)\n",
    "\n",
    "for folder in os.scandir(\"raw_data\"):\n",
    "    # if the selected item is not a directory\n",
    "    if not folder.is_dir():\n",
    "        continue\n",
    "\n",
    "    # lowercase the folder name and replace space with underscore\n",
    "    changed_folder_name = folder.name.lower()\n",
    "    changed_folder_name = changed_folder_name.replace(\" \", \"_\")\n",
    "\n",
    "    # add folder to processed_data\n",
    "    try:\n",
    "        os.mkdir(os.path.join(processed_data_dir, changed_folder_name))\n",
    "    except OSError as error:\n",
    "        print(error)\n",
    "\n",
    "    # pull filename and store in filenames for dataframe\n",
    "    for file in os.scandir(folder.path):\n",
    "        # if the folder is empty\n",
    "        if len(folder.path) == 0:\n",
    "            continue\n",
    "        \n",
    "        # lowercase the file name and replace space with underscore\n",
    "        changed_file_name = file.name.lower()\n",
    "        changed_file_name = changed_file_name.replace(\" \", \"_\")\n",
    "        # os.rename(file, changed_file_name)\n",
    "\n",
    "        # copy the file to its correct folder in processed_data and rename\n",
    "        shutil.copy(file, os.path.join(processed_data_dir, changed_folder_name))\n",
    "        raw_file = os.path.join(processed_data_dir, changed_folder_name, file.name)\n",
    "        processed_file = os.path.join(processed_data_dir, changed_folder_name, changed_file_name)\n",
    "        os.rename(raw_file, processed_file)\n",
    "\n",
    "        # store properly formatted folder name as a label\n",
    "        labels.append(changed_folder_name)\n",
    "\n",
    "        # store filename as a filename\n",
    "        filenames.append(changed_file_name)\n",
    "\n",
    "        # create a dataframe by making a tuple of the filename and label\n",
    "        df = pd.DataFrame(list(zip(filenames, labels)), columns=[\"image\", \"label\"])\n",
    "\n",
    "#change the file to a csv\n",
    "df.to_csv(\"ancient_egyptian_dataset.csv\", index=False)"
   ]
  },
  {
   "cell_type": "markdown",
   "metadata": {},
   "source": [
    "# Describe the sample and features"
   ]
  },
  {
   "cell_type": "code",
   "execution_count": null,
   "metadata": {},
   "outputs": [],
   "source": [
    "df.head(10)"
   ]
  },
  {
   "cell_type": "markdown",
   "metadata": {},
   "source": [
    "# Understanding patterns/trends in the data"
   ]
  },
  {
   "cell_type": "markdown",
   "metadata": {},
   "source": [
    "In order to understand the data, it must first be described. The code below shows that there are 1337 \"unique\" images (meaning image filenames) and 22 unique labels. At this point, the model might attempt to cluster the images into 22 distinct groups."
   ]
  },
  {
   "cell_type": "code",
   "execution_count": null,
   "metadata": {},
   "outputs": [],
   "source": [
    "df.describe()"
   ]
  },
  {
   "cell_type": "markdown",
   "metadata": {},
   "source": [
    "The below code shows the number of images for each label. This is the number of points expected for each cluster."
   ]
  },
  {
   "cell_type": "code",
   "execution_count": null,
   "metadata": {},
   "outputs": [],
   "source": [
    "df[\"label\"].value_counts()"
   ]
  },
  {
   "cell_type": "markdown",
   "metadata": {},
   "source": [
    "# Gray Scaling Images"
   ]
  },
  {
   "cell_type": "code",
   "execution_count": null,
   "metadata": {},
   "outputs": [],
   "source": [
    "plt.rcParams['image.cmap'] = \"gray\""
   ]
  },
  {
   "cell_type": "markdown",
   "metadata": {},
   "source": [
    "## Continuing this project\n",
    "\n",
    "In order to continue working on the project, the following questions need to be answered:\n",
    "\n",
    "* What other descriptive plots can I create to see trends in the data?\n",
    "* Do I need to greyscale my images?\n",
    "* Do I need to get my images to be of the same resolution?\n",
    "* How do I tell the algorithm to cluster into 2 groups, sculpture and structure, in an unsupervised approach?\n",
    "    * How can it decipher that an image is a structure or sculpture?\n",
    "* Should the set up of a CNN or pixel boundaries be done in at this step?\n",
    "* Should images be cropped at this point, or does the pixel boundary eliminate the need for image cropping?"
   ]
  }
 ],
 "metadata": {
  "kernelspec": {
   "display_name": "Python 3 (ipykernel)",
   "language": "python",
   "name": "python3"
  },
  "language_info": {
   "codemirror_mode": {
    "name": "ipython",
    "version": 3
   },
   "file_extension": ".py",
   "mimetype": "text/x-python",
   "name": "python",
   "nbconvert_exporter": "python",
   "pygments_lexer": "ipython3",
   "version": "3.11.5"
  }
 },
 "nbformat": 4,
 "nbformat_minor": 4
}
